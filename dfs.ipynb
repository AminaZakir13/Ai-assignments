{
  "nbformat": 4,
  "nbformat_minor": 0,
  "metadata": {
    "colab": {
      "provenance": [],
      "authorship_tag": "ABX9TyOiFGy1ylMk1qoGjgTecnPy",
      "include_colab_link": true
    },
    "kernelspec": {
      "name": "python3",
      "display_name": "Python 3"
    },
    "language_info": {
      "name": "python"
    }
  },
  "cells": [
    {
      "cell_type": "markdown",
      "metadata": {
        "id": "view-in-github",
        "colab_type": "text"
      },
      "source": [
        "<a href=\"https://colab.research.google.com/github/AminaZakir13/Ai-assignments/blob/main/dfs.ipynb\" target=\"_parent\"><img src=\"https://colab.research.google.com/assets/colab-badge.svg\" alt=\"Open In Colab\"/></a>"
      ]
    },
    {
      "cell_type": "markdown",
      "source": [
        " **COMSATS BFS GRAPH**"
      ],
      "metadata": {
        "id": "tgUANn9uOyWJ"
      }
    },
    {
      "cell_type": "code",
      "source": [
        "import matplotlib.pyplot as plt\n",
        "import networkx as nx\n",
        "\n",
        "# DFS (Depth-First Search) function to find all paths between two nodes in a graph\n",
        "def dfs(graph, start, goal, path=None):\n",
        "    # If no path is provided, initialize an empty path\n",
        "    if path is None:\n",
        "        path = []\n",
        "    # Add the current node (start) to the path\n",
        "    path = path + [start]\n",
        "\n",
        "    # Base case: if the current node is the goal, return the current path\n",
        "    if start == goal:\n",
        "        return [path]\n",
        "\n",
        "    # If the start node is not in the graph, return an empty list (no paths)\n",
        "    if start not in graph:\n",
        "        return []\n",
        "\n",
        "    # Initialize an empty list to store paths found during the DFS\n",
        "    paths = []\n",
        "\n",
        "    # Explore neighbors of the current node\n",
        "    for neighbor in graph[start]:\n",
        "        # If the neighbor is not already in the path (to avoid cycles), recursively call DFS\n",
        "        if neighbor not in path:\n",
        "            new_paths = dfs(graph, neighbor, goal, path)\n",
        "            # For each new path found, append it to the paths list\n",
        "            for p in new_paths:\n",
        "                paths.append(p)\n",
        "\n",
        "    # Return all the found paths\n",
        "    return paths\n",
        "\n",
        "\n",
        "# Dictionary representing the graph of cities in Pakistan\n",
        "pakistan_cities_graph = {\n",
        "    'Islamabad': ['Rawalpindi', 'Peshawar', 'Lahore'],\n",
        "    'Rawalpindi': ['Islamabad', 'Peshawar'],\n",
        "    'Peshawar': ['Islamabad', 'Rawalpindi', 'Quetta'],\n",
        "    'Lahore': ['Islamabad', 'Multan'],\n",
        "    'Multan': ['Lahore', 'Karachi'],\n",
        "    'Karachi': ['Multan', 'Quetta'],\n",
        "    'Quetta': ['Peshawar', 'Karachi']\n",
        "}\n",
        "\n",
        "# Perform DFS to find all paths from 'Islamabad' to 'Karachi'\n",
        "paths = dfs(pakistan_cities_graph, 'Islamabad', 'Karachi')\n",
        "\n",
        "# Print all the paths found from 'Islamabad' to 'Karachi'\n",
        "print(\"All Paths from Islamabad to Karachi:\")\n",
        "for path in paths:\n",
        "    print(\" -> \".join(path))\n",
        "\n",
        "\n",
        "# Function to plot the graph of cities using NetworkX and Matplotlib\n",
        "def plot_graph(graph):\n",
        "    G = nx.Graph()  # Create an empty graph\n",
        "    # Add edges to the graph based on the adjacency list\n",
        "    for city, neighbors in graph.items():\n",
        "        for neighbor in neighbors:\n",
        "            G.add_edge(city, neighbor)\n",
        "\n",
        "    # Set figure size for the plot\n",
        "    plt.figure(figsize=(8, 6))\n",
        "    # Generate positions for each node in the graph using a spring layout\n",
        "    pos = nx.spring_layout(G)\n",
        "    # Draw the graph with labels, customized colors, and styles\n",
        "    nx.draw(G, pos, with_labels=True, node_color='lightgreen', node_size=3000,\n",
        "            font_size=10, font_weight='bold', edge_color='black')\n",
        "    # Add a title to the plot\n",
        "    plt.title(\"Graph of Cities in Pakistan\")\n",
        "    # Display the graph plot\n",
        "    plt.show()\n",
        "\n",
        "\n",
        "# Call the plot_graph function to visualize the cities graph\n",
        "plot_graph(pakistan_cities_graph)\n"
      ],
      "metadata": {
        "id": "xe8OZOXkO8YI"
      },
      "execution_count": null,
      "outputs": []
    }
  ]
}