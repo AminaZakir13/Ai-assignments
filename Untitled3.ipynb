{
  "nbformat": 4,
  "nbformat_minor": 0,
  "metadata": {
    "colab": {
      "provenance": [],
      "authorship_tag": "ABX9TyPzvIGu6RgbSRuMtPXpPnER",
      "include_colab_link": true
    },
    "kernelspec": {
      "name": "python3",
      "display_name": "Python 3"
    },
    "language_info": {
      "name": "python"
    }
  },
  "cells": [
    {
      "cell_type": "markdown",
      "metadata": {
        "id": "view-in-github",
        "colab_type": "text"
      },
      "source": [
        "<a href=\"https://colab.research.google.com/github/AminaZakir13/Ai-assignments/blob/main/Untitled3.ipynb\" target=\"_parent\"><img src=\"https://colab.research.google.com/assets/colab-badge.svg\" alt=\"Open In Colab\"/></a>"
      ]
    },
    {
      "cell_type": "code",
      "execution_count": 21,
      "metadata": {
        "colab": {
          "base_uri": "https://localhost:8080/"
        },
        "id": "WcAGw34Lr4-x",
        "outputId": "181858e7-b606-4691-f99b-d9453d99b35b"
      },
      "outputs": [
        {
          "output_type": "stream",
          "name": "stdout",
          "text": [
            "Shortest path from Islamabad to Karachi: ['Islamabad', 'Rawalpindi', 'Quetta', 'Karachi']\n"
          ]
        }
      ],
      "source": [
        "from collections import deque\n",
        "graph = {\n",
        "    \"Islamabad\": [\"Rawalpindi\", \"Lahore\", \"Peshawar\"],\n",
        "    \"Rawalpindi\": [\"Islamabad\", \"Peshawar\", \"Quetta\"],\n",
        "    \"Peshawar\": [\"Islamabad\", \"Rawalpindi\", \"Quetta\"],\n",
        "    \"Lahore\": [\"Islamabad\", \"Multan\", \"Quetta\"],\n",
        "    \"Multan\": [\"Lahore\", \"Karachi\", \"Quetta\"],\n",
        "    \"Quetta\": [\"Rawalpindi\", \"Peshawar\", \"Multan\", \"Karachi\"],\n",
        "    \"Karachi\": [\"Multan\", \"Quetta\"]\n",
        "}\n",
        "def bfs_shortest_path(graph, start, goal):\n",
        "    queue = deque([(start, [start])])\n",
        "    visited = set()\n",
        "    while queue:\n",
        "        current_city, path = queue.popleft()\n",
        "\n",
        "        if current_city == goal:\n",
        "            return path\n",
        "\n",
        "        visited.add(current_city)\n",
        "        for neighbor in graph[current_city]:\n",
        "            if neighbor not in visited:\n",
        "                queue.append((neighbor, path + [neighbor]))\n",
        "\n",
        "    return None\n",
        "shortest_path = bfs_shortest_path(graph, \"Islamabad\", \"Karachi\")\n",
        "print(\"Shortest path from Islamabad to Karachi:\", shortest_path)"
      ]
    }
  ]
}